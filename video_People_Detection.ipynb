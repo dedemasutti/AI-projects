{
 "cells": [
  {
   "cell_type": "code",
   "execution_count": null,
   "id": "b03aa9be",
   "metadata": {},
   "outputs": [],
   "source": [
    "import cv2\n",
    "\n",
    "# Carregar o modelo pré-treinado para detecção de pessoas\n",
    "model_path = cv2.data.haarcascades + \"haarcascade_fullbody.xml\"\n",
    "model = cv2.CascadeClassifier(model_path)\n",
    "\n",
    "# Carregar o vídeo\n",
    "video_path = \"video (2160p).mp4\"\n",
    "cap = cv2.VideoCapture(video_path)\n",
    "\n",
    "# Loop para processar cada frame do vídeo\n",
    "while True:\n",
    "    # Ler o próximo frame do vídeo\n",
    "    ret, frame = cap.read()\n",
    "    \n",
    "    # Verificar se o frame foi lido corretamente\n",
    "    if not ret:\n",
    "        break\n",
    "    \n",
    "    # Converter o frame para escala de cinza\n",
    "    gray = cv2.cvtColor(frame, cv2.COLOR_BGR2GRAY)\n",
    "    \n",
    "    # Detectar pessoas no frame4\n",
    "    people = model.detectMultiScale(gray, scaleFactor=1.1, minNeighbors=5, minSize=(15,15))\n",
    "    \n",
    "    # Desenhar retângulos ao redor das pessoas detectadas\n",
    "    for (x, y, w, h) in people:\n",
    "        cv2.rectangle(frame, (x, y), (x+w, y+h), (0, 255, 0), 2)\n",
    "    \n",
    "    # Verificar o tamanho do frame antes de exibi-lo\n",
    "    if frame is not None and frame.shape[1] > 0 and frame.shape[0] > 0:\n",
    "        # Exibir o frame com as pessoas detectadas\n",
    "        cv2.imshow('Detecção de Pessoas', frame)\n",
    "    \n",
    "    # Parar o loop se a tecla 'q' for pressionada\n",
    "    if cv2.waitKey(1) & 0xFF == ord('q'):\n",
    "        break\n",
    "\n",
    "# Liberar os recursos\n",
    "cap.release()\n",
    "cv2.destroyAllWindows()\n"
   ]
  },
  {
   "cell_type": "code",
   "execution_count": null,
   "id": "0ca9733a",
   "metadata": {},
   "outputs": [],
   "source": []
  },
  {
   "cell_type": "code",
   "execution_count": null,
   "id": "2e542186",
   "metadata": {},
   "outputs": [],
   "source": []
  }
 ],
 "metadata": {
  "kernelspec": {
   "display_name": "Python 3 (ipykernel)",
   "language": "python",
   "name": "python3"
  },
  "language_info": {
   "codemirror_mode": {
    "name": "ipython",
    "version": 3
   },
   "file_extension": ".py",
   "mimetype": "text/x-python",
   "name": "python",
   "nbconvert_exporter": "python",
   "pygments_lexer": "ipython3",
   "version": "3.9.13"
  }
 },
 "nbformat": 4,
 "nbformat_minor": 5
}
