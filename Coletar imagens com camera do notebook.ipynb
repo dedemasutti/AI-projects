{
 "cells": [
  {
   "cell_type": "markdown",
   "id": "7f9b6a75",
   "metadata": {},
   "source": [
    "# uso de imagem da camera do notebook para detecção de faces\n"
   ]
  },
  {
   "cell_type": "markdown",
   "id": "3a1fd44b",
   "metadata": {},
   "source": [
    "Vamos importar as bibliotecas BytesIO, clear_output, Image,display.\n",
    "Posteriormente, definimos uma variavel para padronizarmos a imagem, e outra variavel para exibir o video"
   ]
  },
  {
   "cell_type": "code",
   "execution_count": 6,
   "id": "e10ecec9",
   "metadata": {},
   "outputs": [],
   "source": [
    "## importante verificar a instalacao da biblioteca OpenCV. O comando para instalar é: pip install opencv-python. Caso tenha o anaconda o pip já estará instalado.\n",
    "import cv2  \n",
    "from io import BytesIO\n",
    "from IPython.display import clear_output, Image, display\n",
    "from PIL import Image as Img\n",
    "\n",
    "def imagem_padronizada(imagem):\n",
    "    imagem = cv2.cvtColor(imagem, cv2.COLOR_BGR2RGB)\n",
    "    imagem = cv2.resize(imagem, (400,300))\n",
    "    return imagem\n",
    "\n",
    "def video_exibir(frame):\n",
    "    img = Img.fromarray(frame, \"RGB\")\n",
    "    buffer = BytesIO()\n",
    "    img.save(buffer, format=\"JPEG\")\n",
    "    display(Image(data=buffer.getvalue()))\n",
    "    clear_output(wait=True)"
   ]
  },
  {
   "cell_type": "markdown",
   "id": "f2e1bf22",
   "metadata": {},
   "source": [
    "Criamos um loop infinito até que o kernel seja interrompido para a exibição da camera do notebook ou outra que esteja conectada.\n",
    "Se acontecer de a camera travar, adicione o comando capturar_video.release()"
   ]
  },
  {
   "cell_type": "code",
   "execution_count": null,
   "id": "9fc095be",
   "metadata": {},
   "outputs": [
    {
     "data": {
      "image/jpeg": "[encoded data removed]",
      "text/plain": [
       "<IPython.core.display.Image object>"
      ]
     },
     "metadata": {},
     "output_type": "display_data"
    }
   ],
   "source": [
    "capturar_video = cv2.VideoCapture(0)\n",
    "\n",
    "try:\n",
    "    while(True):\n",
    "        captura_ok, frame = capturar_video.read()\n",
    "\n",
    "        if captura_ok:\n",
    "            frame = imagem_padronizada(frame)\n",
    "            video_exibir(frame)\n",
    "\n",
    "except KeyboardInterrupt:\n",
    "    capturar_video.release()\n",
    "    print(\"O video foi interrompido\")"
   ]
  },
  {
   "cell_type": "markdown",
   "id": "67054165",
   "metadata": {},
   "source": [
    " Utilizamos  um classificador de cascata de Haar de face frontal e extraimos 100 exemplos. Vamos a salvar a imagem na escala de cinza(RGB2GRAY)"
   ]
  },
  {
   "cell_type": "code",
   "execution_count": null,
   "id": "17964fa0",
   "metadata": {},
   "outputs": [],
   "source": [
    "capturar_video = cv2.VideoCapture(0)\n",
    "\n",
    "classificador_face = cv2.CascadeClassifier('classificadores/haarcascade_frontalface_default.xml')\n",
    "\n",
    "contador = 0\n",
    "\n",
    "try:\n",
    "    while(True):\n",
    "        captura_ok, frame = capturar_video.read()\n",
    "\n",
    "        if captura_ok:\n",
    "            frame = imagem_padronizada(frame)\n",
    "            frame_gray = cv2.cvtColor(frame, cv2.COLOR_RGB2GRAY)\n",
    "\n",
    "            faces = classificador_face.detectMultiScale(frame_gray, 1.3, 5)\n",
    "\n",
    "            if len(faces) > 0:\n",
    "                contador += 1\n",
    "                if contador <= 100:\n",
    "                    for (x,y,w,h) in faces:\n",
    "                        roi = frame_gray[y:y+h, x:x+w]\n",
    "            cv2.resize(roi, (200, 200), interpolation=cv2.INTER_LANCZOS4)\n",
    "                        cv2.imwrite(\"diretório onde estão as imagens\" + str(contador) + \".png\", roi)\n",
    "                    cv2.putText(frame, \"Coletado \" + str(contador) + \" faces\", (20,20), cv2.FONT_HERSHEY_SIMPLEX, 0.5, (255,255,0), 2)\n",
    "                else:\n",
    "                    cv2.putText(frame, \"ConcluIdo\", (20,20), cv2.FONT_HERSHEY_SIMPLEX, 0.5, (255,255,0), 2)\n",
    "\n",
    "            exibir_video(frame)\n",
    "\n",
    "except KeyboardInterrupt:\n",
    "    captura_video.release()\n",
    "    print(\"o video foi interrompido\")"
   ]
  },
  {
   "cell_type": "markdown",
   "id": "b056b0a8",
   "metadata": {},
   "source": [
    "Carregar as imagens no diretório onde estão salvas"
   ]
  },
  {
   "cell_type": "code",
   "execution_count": null,
   "id": "6aef96e1",
   "metadata": {},
   "outputs": [],
   "source": [
    "imagens_caminho_treinamento = \"diretorio...\"\n",
    "lista_faces_treinamento = [f for f in listdir(imagens_caminho_treinamento) if isfile(join(imagens_caminho_treinamento, f))]"
   ]
  },
  {
   "cell_type": "markdown",
   "id": "e8312f9b",
   "metadata": {},
   "source": [
    "Vamos coletar as faces"
   ]
  },
  {
   "cell_type": "code",
   "execution_count": null,
   "id": "217a059b",
   "metadata": {},
   "outputs": [],
   "source": [
    "dados_treinamento, sujeitos = [], []\n",
    "\n",
    "for i, arquivo in enumerate(lista_faces_treinamento):\n",
    "    imagem_caminho = imagens_caminho_treinamento + arquivo\n",
    "    imagem = cv2.imread(imagem_caminho, cv2.IMREAD_GRAYSCALE)\n",
    "    dados_treinamento.append(imagem)\n",
    "    sujeitos.append(0)\n",
    "\n",
    "sujeitos = np.asarray(sujeitos, dtype=np.int32)"
   ]
  },
  {
   "cell_type": "markdown",
   "id": "82ed6436",
   "metadata": {},
   "source": [
    " vamos treinar o modelo utilizando o algoritmo de LBPH."
   ]
  },
  {
   "cell_type": "code",
   "execution_count": null,
   "id": "c15a68d6",
   "metadata": {},
   "outputs": [],
   "source": [
    "model_lbph = cv2.face.LBPHFaceRecognizer_create()\n",
    "model_lbph.train(dados_treinamento, sujeitos)"
   ]
  },
  {
   "cell_type": "markdown",
   "id": "ba8a1aba",
   "metadata": {},
   "source": [
    "Vamos copiar o código que usamos algumas celulas acima para extrairmos os exemplos e adaptarmos o modelo para inferir, frame a frame, a similaridade do rosto apresentado com o que treinamos."
   ]
  },
  {
   "cell_type": "code",
   "execution_count": null,
   "id": "61b4ee23",
   "metadata": {},
   "outputs": [],
   "source": [
    "captura_video = cv2.VideoCapture(0)\n",
    "\n",
    "classificador_face = cv2.CascadeClassifier('classificadores/haarcascade_frontalface_default.xml')\n",
    "\n",
    "contador = 0\n",
    "\n",
    "try:\n",
    "    while(True):\n",
    "        captura_ok, frame = captura_video.read()\n",
    "\n",
    "        if captura_ok:\n",
    "            frame = imagem_padronizada(frame)\n",
    "            frame_gray = cv2.cvtColor(frame, cv2.COLOR_RGB2GRAY)\n",
    "            faces = classificador_face.detectMultiScale(frame_gray, 1.3, 5)\n",
    "\n",
    "            if len(faces) > 0:\n",
    "                for (x,y,w,h) in faces:\n",
    "                    roi = frame_gray[y:y+h, x:x+w]\n",
    "                    roi = cv2.resize(roi, (200, 200), interpolation=cv2.INTER_LANCZOS4)\n",
    "                    predicao = model_lbph.predict(roi)\n",
    "                    cv2.putText(frame, \"Similaridade \" + str(predicao[1]), (x,y), cv2.FONT_HERSHEY_SIMPLEX, 0.5, (255,255,0), 2)\n",
    "\n",
    "            exibir_video(frame)\n",
    "\n",
    "except KeyboardInterrupt:\n",
    "    captura_video.release()\n",
    "    print(\"O video foi interrompido\")"
   ]
  },
  {
   "cell_type": "markdown",
   "id": "3fd65866",
   "metadata": {},
   "source": [
    "## ultimo passo, pegue o celular e bote a imagem de uma face de uma pessoa qualquer e acompanhe o resultado..\n"
   ]
  },
  {
   "cell_type": "code",
   "execution_count": null,
   "id": "6681f85b",
   "metadata": {},
   "outputs": [],
   "source": []
  }
 ],
 "metadata": {
  "kernelspec": {
   "display_name": "Python 3 (ipykernel)",
   "language": "python",
   "name": "python3"
  },
  "language_info": {
   "codemirror_mode": {
    "name": "ipython",
    "version": 3
   },
   "file_extension": ".py",
   "mimetype": "text/x-python",
   "name": "python",
   "nbconvert_exporter": "python",
   "pygments_lexer": "ipython3",
   "version": "3.9.7"
  }
 },
 "nbformat": 4,
 "nbformat_minor": 5
}
