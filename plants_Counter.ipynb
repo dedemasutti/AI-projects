{
  "nbformat": 4,
  "nbformat_minor": 0,
  "metadata": {
    "colab": {
      "provenance": [],
      "authorship_tag": "ABX9TyM5KFIHO8jfZx7wkKeuy0zx",
      "include_colab_link": true
    },
    "kernelspec": {
      "name": "python3",
      "display_name": "Python 3"
    },
    "language_info": {
      "name": "python"
    }
  },
  "cells": [
    {
      "cell_type": "markdown",
      "metadata": {
        "id": "view-in-github",
        "colab_type": "text"
      },
      "source": [
        "<a href=\"https://colab.research.google.com/github/dedemasutti/AI-projects/blob/master/plants_Counter.ipynb\" target=\"_parent\"><img src=\"https://colab.research.google.com/assets/colab-badge.svg\" alt=\"Open In Colab\"/></a>"
      ]
    },
    {
      "cell_type": "code",
      "source": [
        "import cv2\n",
        "import numpy as np"
      ],
      "metadata": {
        "id": "fDUjPHQDow5N"
      },
      "execution_count": 1,
      "outputs": []
    },
    {
      "cell_type": "code",
      "source": [
        "def count_plants(image_path):\n",
        "\n",
        "\n",
        "  image = cv2.imread(image_path)\n",
        "\n",
        "  gray_image = cv2.cvtColor(image, cv2.COLOR_BGR2GRAY) # Convertendo a imagem para cinza\n",
        "\n",
        "  blurred_image = cv2.GaussianBlur(gray_image, (5,5), 0) # Aplicando filtro Gaussiano\n",
        "\n",
        "  edge = cv2.Canny(blurred_image, 50, 150) # Aplicando a função canny para achar as bordas\n",
        "\n",
        "  contours, _ = cv2.findContours(edge, cv2.RETR_EXTERNAL, cv2.CHAIN_APPROX_SIMPLE) # Buscando os contornos na imagem borrada\n",
        "\n",
        "  cv2.drawContours(image, contours, -1, (0,255,0), 2) ## Desenha os contornos na imagem original\n",
        "\n",
        "  plants_count = len(contours) # mostra o numero de plantas detectadas\n",
        "\n",
        "  cv2.imshow('Detected Plants', image)\n",
        "  cv2.waitKey(0)\n",
        "  cv2.destroyAllWindows()\n",
        "\n",
        "  return plants_count\n",
        "\n",
        "  if __name__ == \"__main__\":\n",
        "    image_path = \"image.jpg\"\n",
        "    num_plants = count_plants(image_path)\n",
        "    print(\"Number of plants detected:\", num_plants)\n",
        "\n",
        "\n"
      ],
      "metadata": {
        "id": "bTObXms8CyuI"
      },
      "execution_count": null,
      "outputs": []
    }
  ]
}