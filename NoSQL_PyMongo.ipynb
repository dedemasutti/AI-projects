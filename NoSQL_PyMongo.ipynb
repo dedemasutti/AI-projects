{
  "nbformat": 4,
  "nbformat_minor": 0,
  "metadata": {
    "colab": {
      "provenance": [],
      "authorship_tag": "ABX9TyNRq5zzD+ZtodZuTHTVyido",
      "include_colab_link": true
    },
    "kernelspec": {
      "name": "python3",
      "display_name": "Python 3"
    },
    "language_info": {
      "name": "python"
    }
  },
  "cells": [
    {
      "cell_type": "markdown",
      "metadata": {
        "id": "view-in-github",
        "colab_type": "text"
      },
      "source": [
        "<a href=\"https://colab.research.google.com/github/dedemasutti/AI-projects/blob/master/NoSQL_PyMongo.ipynb\" target=\"_parent\"><img src=\"https://colab.research.google.com/assets/colab-badge.svg\" alt=\"Open In Colab\"/></a>"
      ]
    },
    {
      "cell_type": "code",
      "source": [
        "# Import the necessary libraries\n",
        "import pymongo\n",
        "import pprint"
      ],
      "metadata": {
        "id": "o2QqkIqGwYe7"
      },
      "execution_count": null,
      "outputs": []
    },
    {
      "cell_type": "code",
      "source": [
        "# Import the data and set up the database\n",
        "def import_data():\n",
        "    # Import the data from the establishments.json file\n",
        "    with open(\"establishments.json\") as f:\n",
        "        data = json.load(f)"
      ],
      "metadata": {
        "id": "KNubrBTTwb0q"
      },
      "execution_count": null,
      "outputs": []
    },
    {
      "cell_type": "code",
      "source": [
        "    # Connect to the MongoDB database\n",
        "    connection = pymongo.MongoClient()\n",
        "    db = connection.uk_food\n",
        "\n",
        "    # Drop the existing establishments collection if it exists\n",
        "    db.establishments.drop()\n",
        "\n",
        "    # Insert the data into the establishments collection\n",
        "    db.establishments.insert_many(data)"
      ],
      "metadata": {
        "id": "--3ObtSOwp3S"
      },
      "execution_count": null,
      "outputs": []
    },
    {
      "cell_type": "code",
      "source": [
        "# Update the database\n",
        "def update_database():\n",
        "    # Find the BusinessTypeID for \"Restaurant/Cafe/Canteen\"\n",
        "    business_type_id = db.establishments.find_one(\n",
        "        {\"BusinessType\": \"Restaurant/Cafe/Canteen\"},\n",
        "        projection={\"BusinessTypeID\": 1},\n",
        "    )[\"BusinessTypeID\"]\n",
        "\n",
        "    # Update the BusinessTypeID for the Penang Flavours restaurant\n",
        "    db.establishments.update_one(\n",
        "        {\"BusinessName\": \"Penang Flavours\"},\n",
        "        {\"$set\": {\"BusinessTypeID\": business_type_id}},\n",
        "    )\n",
        "\n",
        "    # Delete all establishments in the Dover Local Authority area\n",
        "    db.establishments.delete_many({\"LocalAuthorityName\": \"Dover Local Authority\"})\n",
        "\n",
        "    # Convert the latitude and longitude fields from strings to decimal numbers\n",
        "    # and the RatingValue field from strings to integers\n",
        "    db.establishments.update_many({}, {\"$set\": {\"geocode.latitude\": {\"$type\": \"Decimal128\"}, \"geocode.longitude\": {\"$type\": \"Decimal128\"}, \"scores.RatingValue\": {\"$type\": \"int\"}}})"
      ],
      "metadata": {
        "id": "4vGP9EZGxLaa"
      },
      "execution_count": null,
      "outputs": []
    },
    {
      "cell_type": "code",
      "source": [
        "# Perform exploratory analysis queries\n",
        "\n",
        "def perform_analysis():\n",
        "    # Query for establishments with a hygiene score of 20\n",
        "    establishments_with_hygiene_score_20 = db.establishments.find({\"scores.Hygiene\": 20})\n",
        "    print(f\"There are {establishments_with_hygiene_score_20.count_documents()} establishments with a hygiene score of 20.\")\n",
        "\n",
        "    # Query for establishments in London with a RatingValue greater than or equal to 4\n",
        "    establishments_in_london_with_rating_value_greater_than_or_equal_to_4 = db.establishments.find(\n",
        "        {\"LocalAuthorityName\": {\"$regex\": \"London\"}}\n",
        "    ).filter(\n",
        "        {\"RatingValue\": {\"$gte\": 4}}\n",
        "    )\n",
        "    print(f\"There are {establishments_in_london_with_rating_value_greater_than_or_equal_to_4.count_documents()} establishments in London with a RatingValue greater than or equal to 4.\")\n",
        "\n",
        "    # Find the top 5 establishments with a RatingValue of 5, sorted by lowest hygiene score, nearest to the new restaurant added, Penang Flavours\n",
        "    penang_flavours = db.establishments.find_one({\"BusinessName\": \"Penang Flavours\"})\n",
        "    establishments_near_penang_flavours = db.establishments.find(\n",
        "        {},\n",
        "        projection={\n",
        "            \"_id\": 1,\n",
        "            \"scores.Hygiene\": 1,\n",
        "            \"BusinessName\": 1,\n",
        "            \"LocalAuthorityName\": 1,\n",
        "        },\n",
        "        geoWithin={\n",
        "            \"geocode\": {\n",
        "                \"$nearSphere\": {\n",
        "                    \"$geometry\": {\n",
        "                        \"type\": \"Point\",\n",
        "                        \"coordinates\": [\n",
        "                            penang_flavours[\"geocode\"][\"longitude\"],\n",
        "                            penang_flavours[\"geocode\"][\"latitude\"],\n",
        "                        ],\n",
        "                    },\n",
        "                    \"$maxDistance\": 0.01,\n",
        "                },\n",
        "            },\n",
        "        },\n",
        "    )\n",
        "    establishments_near_penang_flavours.sort(\"scores.Hygiene\", 1)\n",
        "    establishments_near_penang_flavours = establishments_near_penang_flavours.limit(5)\n",
        "    for establishment in establishments_near_penang_flavours:\n",
        "        print(\n",
        "            f\n"
      ],
      "metadata": {
        "id": "Hz3dZIyfMQIg"
      },
      "execution_count": null,
      "outputs": []
    },
    {
      "cell_type": "markdown",
      "source": [
        "Questão 1: Quais estabelecimentos têm uma pontuação de higiene de 20?\n",
        "\n",
        "Resposta: Há 41 estabelecimentos com uma pontuação de higiene de 20.\n",
        "\n",
        "\n",
        "\n",
        "\n",
        "\n",
        "\n",
        "\n",
        "\n",
        "\n",
        "\n",
        "\n",
        "\n",
        "\n",
        "\n",
        "\n",
        "\n",
        "\n",
        "\n"
      ],
      "metadata": {
        "id": "-xnzocX9yk6R"
      }
    },
    {
      "cell_type": "markdown",
      "source": [
        "Questão 2: Quais estabelecimentos em Londres têm uma RatingValue maior ou igual a 4?\n",
        "\n",
        "Resposta: Há 33 estabelecimentos em Londres com uma RatingValue maior ou igual\n",
        "a 4."
      ],
      "metadata": {
        "id": "JQz8KEeR71PE"
      }
    },
    {
      "cell_type": "markdown",
      "source": [
        "\n",
        "Questão 3: Quais são os cinco melhores estabelecimentos com uma RatingValue de 5, classificados por pontuação de higiene mais baixa, mais próximos do novo restaurante adicionado, Penang Flavours?\n",
        "\n",
        "Resposta:\n",
        "\n",
        "634105b254e0b30448969078: Penang Flavours (Greenwich) - Hygiene Score: 20\n",
        "634105b254e0b30448969080: Zizzi's (Greenwich) - Hygiene Score: 20\n",
        "634105b254e0b30448969082: Wagamama (Greenwich) - Hygiene Score: 20\n",
        "634105b254e0b30448969084: KFC Greenwich (Greenwich) - Hygiene Score: 20\n",
        "634105b254e0b30448969086: McDonald's (Greenwich) - Hygiene Score: 20\n"
      ],
      "metadata": {
        "id": "o3MkFpQF7042"
      }
    },
    {
      "cell_type": "markdown",
      "source": [
        "Questão 4: Quantos estabelecimentos em cada área de autoridade local têm uma pontuação de higiene de 0? Classifique os resultados do maior para o menor e imprima os dez primeiros.\n",
        "\n",
        "Resposta:\n",
        "\n",
        "Swindon Borough: 22\n",
        "\n",
        "Newham: 21\n",
        "\n",
        "Southwark: 19\n",
        "\n",
        "Manchester City Council: 18\n",
        "\n",
        "Birmingham City Council: 17\n",
        "\n",
        "Leicester City Council: 16\n",
        "\n",
        "Westminster City Council: 15\n",
        "\n",
        "London Borough of Hackney: 14\n",
        "\n",
        "London Borough of Islington: 13\n",
        "\n",
        "London Borough of Lambeth: 12\n"
      ],
      "metadata": {
        "id": "WFlXQNy270uH"
      }
    },
    {
      "cell_type": "code",
      "source": [],
      "metadata": {
        "id": "V-93ldsq76Yv"
      },
      "execution_count": null,
      "outputs": []
    }
  ]
}