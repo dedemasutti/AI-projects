{
  "nbformat": 4,
  "nbformat_minor": 0,
  "metadata": {
    "colab": {
      "provenance": [],
      "authorship_tag": "ABX9TyO8Yj96VCVMMywYOWBKCUtA",
      "include_colab_link": true
    },
    "kernelspec": {
      "name": "python3",
      "display_name": "Python 3"
    },
    "language_info": {
      "name": "python"
    }
  },
  "cells": [
    {
      "cell_type": "markdown",
      "metadata": {
        "id": "view-in-github",
        "colab_type": "text"
      },
      "source": [
        "<a href=\"https://colab.research.google.com/github/dedemasutti/AI-projects/blob/master/Recognition_of_car_parts_model.ipynb\" target=\"_parent\"><img src=\"https://colab.research.google.com/assets/colab-badge.svg\" alt=\"Open In Colab\"/></a>"
      ]
    },
    {
      "cell_type": "markdown",
      "source": [
        "## Código de análise e reconhecimento de peças automotivas com Keras e OpenCV"
      ],
      "metadata": {
        "id": "Ai8tNSXEDwfy"
      }
    },
    {
      "cell_type": "code",
      "source": [
        "pip install opencv-python"
      ],
      "metadata": {
        "colab": {
          "base_uri": "https://localhost:8080/"
        },
        "id": "BIzxm8qhDw06",
        "outputId": "e890a4e4-c018-4bf1-c722-45049ade48c8"
      },
      "execution_count": 2,
      "outputs": [
        {
          "output_type": "stream",
          "name": "stdout",
          "text": [
            "Requirement already satisfied: opencv-python in /usr/local/lib/python3.10/dist-packages (4.7.0.72)\n",
            "Requirement already satisfied: numpy>=1.21.2 in /usr/local/lib/python3.10/dist-packages (from opencv-python) (1.22.4)\n"
          ]
        }
      ]
    },
    {
      "cell_type": "code",
      "source": [
        "import cv2\n",
        "import numpy as np\n",
        "from keras.applications.inception_v3 import InceptionV3, preprocess_input, decode_predictions"
      ],
      "metadata": {
        "id": "Jh6d-41uDxGM"
      },
      "execution_count": 3,
      "outputs": []
    },
    {
      "cell_type": "code",
      "source": [
        "# Carrega o modelo pré-treinado InceptionV3\n",
        "model = InceptionV3(weights='imagenet')\n"
      ],
      "metadata": {
        "id": "LdZROXJ-H_t2"
      },
      "execution_count": null,
      "outputs": []
    },
    {
      "cell_type": "code",
      "source": [
        "# Função para fazer a análise e reconhecimento de uma imagem\n",
        "def analisar_imagem(imagem):\n",
        "    # Carrega a imagem e redimensionar para o tamanho esperado pelo modelo\n",
        "    img = cv2.imread(imagem)\n",
        "    img = cv2.resize(img, (299, 299))\n",
        "\n",
        "    # Pré-processamento da imagem para ser compatível com o modelo\n",
        "    img = preprocess_input(img)\n",
        "\n",
        "    # Adiciona uma dimensão extra para representar o batch\n",
        "    img = np.expand_dims(img, axis=0)\n",
        "\n",
        "    # Realiza a predição da imagem usando o modelo\n",
        "    preds = model.predict(img)\n",
        "\n",
        "    # Decodifica as predições em formato legível\n",
        "    decoded_preds = decode_predictions(preds, top=3)[0]"
      ],
      "metadata": {
        "id": "QjgzR72RIScE"
      },
      "execution_count": null,
      "outputs": []
    },
    {
      "cell_type": "code",
      "source": [
        "\n",
        "\n",
        "    # Imprime as predições\n",
        "    for (i, (class_id, class_name, prob)) in enumerate(decoded_preds):\n",
        "        print(f\"{i+1}. {class_name}: {prob*100:.2f}%\")\n",
        "\n",
        "# Exemplo de uso da função com uma imagem\n",
        "analisar_imagem(\"/content/roda mercedes.jpg\")\n"
      ],
      "metadata": {
        "colab": {
          "base_uri": "https://localhost:8080/"
        },
        "id": "conuJoRtDxvY",
        "outputId": "ef6cd8c3-a120-4123-b8bb-825edbc7ec14"
      },
      "execution_count": 4,
      "outputs": [
        {
          "output_type": "stream",
          "name": "stdout",
          "text": [
            "Downloading data from https://storage.googleapis.com/tensorflow/keras-applications/inception_v3/inception_v3_weights_tf_dim_ordering_tf_kernels.h5\n",
            "96112376/96112376 [==============================] - 1s 0us/step\n",
            "1/1 [==============================] - 2s 2s/step\n",
            "Downloading data from https://storage.googleapis.com/download.tensorflow.org/data/imagenet_class_index.json\n",
            "35363/35363 [==============================] - 0s 0us/step\n",
            "1. car_wheel: 60.20%\n",
            "2. disk_brake: 32.34%\n",
            "3. unicycle: 0.42%\n"
          ]
        }
      ]
    },
    {
      "cell_type": "markdown",
      "source": [
        "#####A imagem foi de uma roda de carro, e a resposta do modelo preditivo foi:\n",
        "1. car_wheel: 60.20%\n",
        "2. disk_brake: 32.34%\n",
        "3. unicycle: 0.42%\n",
        "\n",
        "Ou seja, 60,2% de que seja a roda de um carro."
      ],
      "metadata": {
        "id": "Nq1SlxqgGwO5"
      }
    },
    {
      "cell_type": "code",
      "source": [],
      "metadata": {
        "id": "hf0JJbYKHAUs"
      },
      "execution_count": null,
      "outputs": []
    }
  ]
}