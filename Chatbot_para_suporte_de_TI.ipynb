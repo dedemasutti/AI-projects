{
  "nbformat": 4,
  "nbformat_minor": 0,
  "metadata": {
    "colab": {
      "provenance": [],
      "authorship_tag": "ABX9TyMCYZxlv38nM1Fo42pFyHoq",
      "include_colab_link": true
    },
    "kernelspec": {
      "name": "python3",
      "display_name": "Python 3"
    },
    "language_info": {
      "name": "python"
    }
  },
  "cells": [
    {
      "cell_type": "markdown",
      "metadata": {
        "id": "view-in-github",
        "colab_type": "text"
      },
      "source": [
        "<a href=\"https://colab.research.google.com/github/dedemasutti/AI-projects/blob/master/Chatbot_para_suporte_de_TI.ipynb\" target=\"_parent\"><img src=\"https://colab.research.google.com/assets/colab-badge.svg\" alt=\"Open In Colab\"/></a>"
      ]
    },
    {
      "cell_type": "code",
      "source": [
        "# Instalando as bibliotecas necessárias para depois importá-las\n",
        "!pip install vaderSentiment TextBlob nltk"
      ],
      "metadata": {
        "colab": {
          "base_uri": "https://localhost:8080/"
        },
        "id": "KaxOQ2dzC8Jb",
        "outputId": "c6400a38-fea6-45f6-8fd1-3108029be30f"
      },
      "execution_count": 2,
      "outputs": [
        {
          "output_type": "stream",
          "name": "stdout",
          "text": [
            "Collecting vaderSentiment\n",
            "  Downloading vaderSentiment-3.3.2-py2.py3-none-any.whl (125 kB)\n",
            "\u001b[2K     \u001b[90m━━━━━━━━━━━━━━━━━━━━━━━━━━━━━━━━━━━━━━━━\u001b[0m \u001b[32m126.0/126.0 kB\u001b[0m \u001b[31m1.4 MB/s\u001b[0m eta \u001b[36m0:00:00\u001b[0m\n",
            "\u001b[?25hRequirement already satisfied: TextBlob in /usr/local/lib/python3.10/dist-packages (0.17.1)\n",
            "Requirement already satisfied: nltk in /usr/local/lib/python3.10/dist-packages (3.8.1)\n",
            "Requirement already satisfied: requests in /usr/local/lib/python3.10/dist-packages (from vaderSentiment) (2.31.0)\n",
            "Requirement already satisfied: click in /usr/local/lib/python3.10/dist-packages (from nltk) (8.1.7)\n",
            "Requirement already satisfied: joblib in /usr/local/lib/python3.10/dist-packages (from nltk) (1.3.2)\n",
            "Requirement already satisfied: regex>=2021.8.3 in /usr/local/lib/python3.10/dist-packages (from nltk) (2023.12.25)\n",
            "Requirement already satisfied: tqdm in /usr/local/lib/python3.10/dist-packages (from nltk) (4.66.1)\n",
            "Requirement already satisfied: charset-normalizer<4,>=2 in /usr/local/lib/python3.10/dist-packages (from requests->vaderSentiment) (3.3.2)\n",
            "Requirement already satisfied: idna<4,>=2.5 in /usr/local/lib/python3.10/dist-packages (from requests->vaderSentiment) (3.6)\n",
            "Requirement already satisfied: urllib3<3,>=1.21.1 in /usr/local/lib/python3.10/dist-packages (from requests->vaderSentiment) (2.0.7)\n",
            "Requirement already satisfied: certifi>=2017.4.17 in /usr/local/lib/python3.10/dist-packages (from requests->vaderSentiment) (2024.2.2)\n",
            "Installing collected packages: vaderSentiment\n",
            "Successfully installed vaderSentiment-3.3.2\n"
          ]
        }
      ]
    },
    {
      "cell_type": "code",
      "source": [
        "import string\n",
        "from nltk.chat.util import Chat, reflections\n",
        "\n",
        "# Pré processamento do texto, converte para minusculos, remove pontuação e stopwords\n",
        "def preprocess_text(text):\n",
        "  text = text.lower()\n",
        "  text = text.translate(str.maketrans('', '', string.punctuation))\n",
        "  text = text.split()\n",
        "  text = ' '.join([word for word in text if word not in STOPWORDS])\n",
        "  return text"
      ],
      "metadata": {
        "id": "G0AhPRXKBqnh"
      },
      "execution_count": 3,
      "outputs": []
    },
    {
      "cell_type": "code",
      "source": [
        "from vaderSentiment.vaderSentiment import SentimentIntensityAnalyzer\n",
        "from textblob import TextBlob\n",
        "\n",
        "# Analisando sentimento no texto\n",
        "def analyze_sentiment(text):\n",
        "  scores_vader = analyzer.polarity_scores(text)\n",
        "  scores_textblob = blob.sentiment.polarity\n",
        "  return scores_vader, scores_textblob"
      ],
      "metadata": {
        "id": "jpn6GeNABsIH"
      },
      "execution_count": 4,
      "outputs": []
    },
    {
      "cell_type": "code",
      "source": [
        "from nltk import pos_tag\n",
        "\n",
        "# Função para extrair características (part-of-speech tags) de um texto\n",
        "def extract_features(text):\n",
        "  pos_tags = pos_tag(text)\n",
        "  return pos_tags"
      ],
      "metadata": {
        "id": "gAZsPyOnBx7S"
      },
      "execution_count": 5,
      "outputs": []
    },
    {
      "cell_type": "code",
      "source": [
        "from sklearn.svm import SVC\n",
        "\n",
        "\n",
        "# Essa função treina um modelo de classificação com SVC(Support Vector Machine)\n",
        "def train_model(X, y):\n",
        "  model = SVC()\n",
        "  model.fit(X, y)\n",
        "  return model"
      ],
      "metadata": {
        "id": "Inbo7JqwBy23"
      },
      "execution_count": 6,
      "outputs": []
    },
    {
      "cell_type": "code",
      "source": [
        "import nltk\n",
        "import random\n",
        "from nltk.chat.util import Chat, reflections\n",
        "\n",
        "# Define pares de perguntas e respostas para o chatbot\n",
        "pairs = [\n",
        "    [\n",
        "        r\"(.*)ajuda(.*)\",\n",
        "        [\"Posso te ajudar. Em que posso ser útil?\", \"Claro, qual é o seu problema?\"]\n",
        "    ],\n",
        "    [\n",
        "        r\"(.*)conexão(.*)\",\n",
        "        [\"Entendi, você está sem conexão ou a conexão está oscilando?\"]\n",
        "    ],\n",
        "    [\n",
        "        r\"(.*)lento(.*)\",\n",
        "        [\"Tente reiniciar o seu dispositivo.\", \"Você já tentou limpar o cache do dispositivo?\"]\n",
        "    ],\n",
        "    [\n",
        "        r\"(.*)não funciona(.*)\",\n",
        "        [\"Parece que pode haver um problema de conexão. Verifique suas configurações de rede. Verifique o seu modem e cabos de internet\"]\n",
        "    ],\n",
        "    [\n",
        "        r\"(.*)erro(.*)\",\n",
        "        [\"Poderia fornecer mais detalhes sobre o erro?\", \"Tente reiniciar o seu PC\"]\n",
        "    ],\n",
        "    [\n",
        "        r\"obrigado até a proxima\",\n",
        "        [\"Até a próxima! Se precisar de mais ajuda, estou aqui.\"]\n",
        "    ],\n",
        "]\n",
        "\n",
        "# Cria um chatbot\n",
        "def support_bot():\n",
        "    print(\"Olá! Eu sou um chatbot de suporte técnico em TI. Como posso te ajudar hoje?\")\n",
        "    chatbot = Chat(pairs, reflections)\n",
        "    while True:\n",
        "        user_input = input(\"Você: \")\n",
        "        response = chatbot.respond(user_input)\n",
        "        print(\"Bot: \" + response)\n",
        "\n",
        "# Executa o chatbot\n",
        "if __name__ == \"__main__\":\n",
        "    support_bot()\n"
      ],
      "metadata": {
        "colab": {
          "base_uri": "https://localhost:8080/"
        },
        "id": "zzEusZNy5y1c",
        "outputId": "3b3025b9-111d-49cb-f707-0351095fa025"
      },
      "execution_count": null,
      "outputs": [
        {
          "metadata": {
            "tags": null
          },
          "name": "stdout",
          "output_type": "stream",
          "text": [
            "Olá! Eu sou um chatbot de suporte técnico em TI. Como posso te ajudar hoje?\n",
            "Bot: Entendi, você está sem conexão ou a conexão está oscilando?\n"
          ]
        }
      ]
    }
  ]
}