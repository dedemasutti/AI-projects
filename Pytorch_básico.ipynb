{
  "nbformat": 4,
  "nbformat_minor": 0,
  "metadata": {
    "colab": {
      "provenance": [],
      "authorship_tag": "ABX9TyMKUL6oU5Vr/TmYcvfCq3+J",
      "include_colab_link": true
    },
    "kernelspec": {
      "name": "python3",
      "display_name": "Python 3"
    },
    "language_info": {
      "name": "python"
    },
    "accelerator": "GPU",
    "gpuClass": "standard"
  },
  "cells": [
    {
      "cell_type": "markdown",
      "metadata": {
        "id": "view-in-github",
        "colab_type": "text"
      },
      "source": [
        "<a href=\"https://colab.research.google.com/github/dedemasutti/AI-projects/blob/master/Pytorch_b%C3%A1sico.ipynb\" target=\"_parent\"><img src=\"https://colab.research.google.com/assets/colab-badge.svg\" alt=\"Open In Colab\"/></a>"
      ]
    },
    {
      "cell_type": "markdown",
      "source": [
        "### Imports"
      ],
      "metadata": {
        "id": "fzhVSxHC2Ohr"
      }
    },
    {
      "cell_type": "code",
      "execution_count": 2,
      "metadata": {
        "id": "Fm0EJvarkTgg"
      },
      "outputs": [],
      "source": [
        "import numpy as np\n",
        "import sklearn as sk\n",
        "import matplotlib as plt\n",
        "import torch"
      ]
    },
    {
      "cell_type": "markdown",
      "source": [
        "###tipos de tensores"
      ],
      "metadata": {
        "id": "LErInoNk2Y4F"
      }
    },
    {
      "cell_type": "code",
      "source": [
        "\n",
        "lista = [ [1,2,3],\n",
        "          [4,5,6] ]\n",
        "\n",
        "tns = torch.Tensor(lista)\n",
        "print(tns.dtype)\n",
        "print(tns)\n",
        "\n",
        "print('')\n",
        "tns = torch.DoubleTensor(lista)\n",
        "print(tns.dtype)\n",
        "print(tns)\n",
        "\n",
        "print('')\n",
        "tns = torch.LongTensor(lista)\n",
        "print(tns.dtype)\n",
        "print(tns)"
      ],
      "metadata": {
        "id": "iG4F52Q72L5s"
      },
      "execution_count": null,
      "outputs": []
    },
    {
      "cell_type": "code",
      "source": [
        "# Como arrays numpy\n",
        "#torch.from_numpy()\n",
        "\n",
        "arr = np.random.rand(3,4)\n",
        "arr = arr.astype(int)\n",
        "print(arr)\n",
        "print(arr.dtype)\n",
        "\n",
        "print('')\n",
        "tns = torch.from_numpy(arr)\n",
        "print(tns)\n",
        "print(tns.dtype)"
      ],
      "metadata": {
        "id": "n3CNVp1e2hZ7"
      },
      "execution_count": null,
      "outputs": []
    },
    {
      "cell_type": "code",
      "source": [
        "# Tensores de zeros, uns e randomicos\n",
        "torch.ones()\n",
        "torch.zeros()\n",
        "torch.randn()\n"
      ],
      "metadata": {
        "id": "k-8BE_3KFNTi"
      },
      "execution_count": null,
      "outputs": []
    },
    {
      "cell_type": "code",
      "source": [
        "# Tensor para array numpy\n",
        "arr = tnsr.data.numpy()\n",
        "print(arr)"
      ],
      "metadata": {
        "id": "rBG8BErnF9US"
      },
      "execution_count": null,
      "outputs": []
    },
    {
      "cell_type": "markdown",
      "source": [
        "#### Indexação"
      ],
      "metadata": {
        "id": "hccm8OuqGq_n"
      }
    },
    {
      "cell_type": "code",
      "source": [
        "print(tnsr[0:2, 2].data.numpy())\n",
        "print(tnsr[0, 1].item())"
      ],
      "metadata": {
        "id": "avHyO9wjGuBM"
      },
      "execution_count": null,
      "outputs": []
    },
    {
      "cell_type": "code",
      "source": [
        "from torch.cuda import device\n",
        "if torch.cuda.is_available():\n",
        "  device = torch.device('cuda')\n",
        "else:\n",
        "  device = torch.device('cpu')\n",
        "print(device)\n",
        "tns = torch.randn(15)\n",
        "tns = tns.to(device)\n",
        "print(tns)"
      ],
      "metadata": {
        "id": "pJ7J6SkRsqyx",
        "colab": {
          "base_uri": "https://localhost:8080/"
        },
        "outputId": "fb04fcb1-2dd0-43cc-f2d0-e54a17dc77fa"
      },
      "execution_count": 5,
      "outputs": [
        {
          "output_type": "stream",
          "name": "stdout",
          "text": [
            "cuda\n",
            "tensor([ 2.0305, -0.3191, -0.3533,  0.7335,  0.1276,  0.3786,  0.4057, -0.5135,\n",
            "        -0.4283,  1.1524, -0.7810, -0.4717,  1.2375, -0.3677,  0.9197],\n",
            "       device='cuda:0')\n"
          ]
        }
      ]
    },
    {
      "cell_type": "code",
      "source": [
        "#Função cat\n",
        "tns_out = torch.cat( (tns1, tns2), dim=0 )"
      ],
      "metadata": {
        "id": "neRQfWy6QdfW"
      },
      "execution_count": null,
      "outputs": []
    },
    {
      "cell_type": "code",
      "source": [
        "import torch\n",
        "tns = torch.randn(9, 12)\n",
        "tns1 = tns[0:5, 0:4]\n",
        "tns2 = tns[5:, 4:]\n",
        "\n",
        "resultado = torch.mm(tns1, tns2)\n",
        "print(resultado.size())"
      ],
      "metadata": {
        "colab": {
          "base_uri": "https://localhost:8080/"
        },
        "id": "PpoBI3W7qFKj",
        "outputId": "40d6461b-0389-4c22-fa85-75a335109283"
      },
      "execution_count": 6,
      "outputs": [
        {
          "output_type": "stream",
          "name": "stdout",
          "text": [
            "torch.Size([5, 8])\n"
          ]
        }
      ]
    },
    {
      "cell_type": "code",
      "source": [
        "tns1 = torch.randn(7,7,3)\n",
        "tns2 = torch.rand(147,1)"
      ],
      "metadata": {
        "id": "r6I5y9rBqFtv"
      },
      "execution_count": 8,
      "outputs": []
    },
    {
      "cell_type": "code",
      "source": [
        "tns1 = tns1.view(-1,1)\n",
        "soma = tns1 + tns2\n",
        "print(soma)"
      ],
      "metadata": {
        "id": "Av3ptzvyq9pO"
      },
      "execution_count": null,
      "outputs": []
    },
    {
      "cell_type": "markdown",
      "source": [
        "###Função .size() e função .view()"
      ],
      "metadata": {
        "id": "28mUIVxEptWp"
      }
    },
    {
      "cell_type": "code",
      "source": [
        "# Essas funções são importantes para reorganizar as dimensões dos tensores\n",
        "print(tns2.size())\n",
        "\n",
        "print(tns2.view(tns2.size(0), -1))"
      ],
      "metadata": {
        "id": "apKaEq2urYg1"
      },
      "execution_count": null,
      "outputs": []
    }
  ]
}